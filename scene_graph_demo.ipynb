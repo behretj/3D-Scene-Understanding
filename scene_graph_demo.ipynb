{
 "cells": [
  {
   "cell_type": "code",
   "execution_count": 1,
   "id": "d43af97c-4d69-465e-b1fd-bf55f5f56311",
   "metadata": {},
   "outputs": [
    {
     "name": "stdout",
     "output_type": "stream",
     "text": [
      "Jupyter environment detected. Enabling Open3D WebVisualizer.\n",
      "[Open3D INFO] WebRTC GUI backend enabled.\n",
      "[Open3D INFO] WebRTCWindowSystem: HTTP handshake server disabled.\n"
     ]
    }
   ],
   "source": [
    "import open3d as o3d\n",
    "import numpy as np\n",
    "import pickle\n",
    "from scene_graph import SceneGraph\n",
    "from camera_transforms import pose_aria_pointcloud, pose_ipad_pointcloud, transform_ipad_to_aria_pointcloud\n",
    "from object_detection import get_first_detection, get_all_object_detections"
   ]
  },
  {
   "cell_type": "code",
   "execution_count": 2,
   "id": "1a6bc6d6-782f-4a72-b5ed-8708dfac7f1c",
   "metadata": {},
   "outputs": [],
   "source": [
    "pcd1 = o3d.io.read_point_cloud(\"/home/tjark/Documents/aria_data/semantic_corner_mask3d_transformed.ply\")"
   ]
  },
  {
   "cell_type": "code",
   "execution_count": 6,
   "metadata": {},
   "outputs": [],
   "source": [
    "scene_graph = SceneGraph()\n",
    "file_path = \"/home/tjark/Documents/aria_data/semantic_corner_mask3d_transformed.ply\"\n",
    "label_path = '/home/tjark/Documents/aria_data/semantic_corner_labels.txt'\n",
    "scene_graph.build(file_path, label_path, k=1)\n",
    "scene_graph.visualize(centroids=True, connections=True, exlcude=[1])"
   ]
  }
 ],
 "metadata": {
  "kernelspec": {
   "display_name": "Python 3 (ipykernel)",
   "language": "python",
   "name": "python3"
  },
  "language_info": {
   "codemirror_mode": {
    "name": "ipython",
    "version": 3
   },
   "file_extension": ".py",
   "mimetype": "text/x-python",
   "name": "python",
   "nbconvert_exporter": "python",
   "pygments_lexer": "ipython3",
   "version": "3.10.12"
  }
 },
 "nbformat": 4,
 "nbformat_minor": 5
}
